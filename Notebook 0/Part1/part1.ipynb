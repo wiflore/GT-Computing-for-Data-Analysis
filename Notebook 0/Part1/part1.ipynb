{
 "cells": [
  {
   "cell_type": "markdown",
   "metadata": {
    "nbgrader": {
     "grade": false,
     "grade_id": "cell-d9da995b9796eee6",
     "locked": true,
     "schema_version": 1,
     "solution": false
    }
   },
   "source": [
    "# Sample notebook: Part 1\n",
    "\n",
    "This notebook is Part 1 of two parts (Parts 0 and 1): in the computer science tradition, we will try to number beginning at 0. Together, the two parts comprise an ungraded *lab notebook assignment* (or just *lab* or *assignment*). Although it's ungraded, use it as practice for completing and submitting an assignment."
   ]
  },
  {
   "cell_type": "markdown",
   "metadata": {},
   "source": [
    "## Getting input data\n",
    "\n",
    "Throughout the course, we'll use a variety of methods to get data for use in the notebook environment.\n",
    "\n",
    "One technique is to use [magic commands or shell commands](https://ipython.readthedocs.io/en/stable/interactive/tutorial.html#magics-explained). These are code-like constructs that are specific to Jupyter but outside the base language (e.g., Python). They typically appear on lines of code prefixed by `!` or `%`.\n",
    "\n",
    "Here is an example that downloads a file containing a secret message.\n",
    "\n",
    "> This example is a *shell command*. It invokes a command-line utility called `curl` to do the download, which you can read more about [here](https://curl.haxx.se/docs/manpage.html)."
   ]
  },
  {
   "cell_type": "code",
   "execution_count": 1,
   "metadata": {
    "nbgrader": {
     "grade": false,
     "grade_id": "cell-4f9c6b528b06bfcc",
     "locked": true,
     "schema_version": 1,
     "solution": false
    }
   },
   "outputs": [
    {
     "name": "stdout",
     "output_type": "stream",
     "text": [
      "  % Total    % Received % Xferd  Average Speed   Time    Time     Time  Current\n",
      "                                 Dload  Upload   Total   Spent    Left  Speed\n",
      "100   215  100   215    0     0    315      0 --:--:-- --:--:-- --:--:--   315\n",
      "\n",
      "=== Files in the current directory (from a shell command) ===\n",
      "\n",
      "total 40\n",
      "drwxrwx--- 6 ccc_v1_w_58235_36924                   48 4096 Aug 22 13:03 .\n",
      "drwxrwx--- 5 ccc_v1_w_58235_36924                   48 4096 Aug 21 06:35 ..\n",
      "-rw-rw-r-- 1 ccc_v1_w_58235_36924                   48   52 Aug 21 06:35 .gitconfig\n",
      "drwxr-xr-x 2 ccc_v1_w_58235_36924 ccc_v1_s79867__49148 4096 Aug 22 12:47 .ipynb_checkpoints\n",
      "drwxr-xr-x 5 ccc_v1_w_58235_36924 ccc_v1_s79867__49148 4096 Aug 22 12:47 .ipython\n",
      "drwx------ 3 ccc_v1_w_58235_36924 ccc_v1_s79867__49148 4096 Aug 22 12:47 .local\n",
      "-rw-r--r-- 1 ccc_v1_w_58235_36924 ccc_v1_s79867__49148  215 Aug 22 13:03 message_in_a_bottle.txt.zip\n",
      "-rwxrwx--- 1 ccc_v1_w_58235_36924                   48 6564 Aug 22 13:03 part1.ipynb\n",
      "dr-x------ 2 root                 root                 4096 Aug 21 06:35 .voc\n",
      "\n",
      "=== Files in the current directory (from Python) ===\n",
      "['part1.ipynb', '.gitconfig', '.ipython', '.local', '.voc', '.ipynb_checkpoints', 'message_in_a_bottle.txt.zip']\n"
     ]
    }
   ],
   "source": [
    "# Download:\n",
    "!curl -O https://cse6040.gatech.edu/datasets/message_in_a_bottle.txt.zip\n",
    "\n",
    "# Confirm (from shell):\n",
    "!echo && echo \"=== Files in the current directory (from a shell command) ===\" && echo && ls -al\n",
    "\n",
    "# Confirm (from Python):\n",
    "import os\n",
    "print(\"\\n=== Files in the current directory (from Python) ===\\n{}\".format(os.listdir('.')))"
   ]
  },
  {
   "cell_type": "markdown",
   "metadata": {
    "nbgrader": {
     "grade": false,
     "grade_id": "cell-1fc294f3ae6ef303",
     "locked": true,
     "schema_version": 1,
     "solution": false
    }
   },
   "source": [
    "**Exercise 0** (1 point). In the code cell below, create a variable named `filename` and initialize it to a string containing the name `message_in_a_bottle.txt.zip`. The test cell that follows it will unpack this file, assuming it is available in the current working directory, unpack it, and then print its contents."
   ]
  },
  {
   "cell_type": "code",
   "execution_count": 2,
   "metadata": {
    "collapsed": true,
    "nbgrader": {
     "grade": false,
     "grade_id": "filename",
     "locked": false,
     "schema_version": 1,
     "solution": true
    }
   },
   "outputs": [],
   "source": [
    "uncompressed_name = 'message_in_a_bottle.txt'\n",
    "compressed_extension = '.zip'\n",
    "filename = uncompressed_name + compressed_extension\n"
   ]
  },
  {
   "cell_type": "code",
   "execution_count": 3,
   "metadata": {
    "nbgrader": {
     "grade": true,
     "grade_id": "filename_test",
     "locked": true,
     "points": 1,
     "schema_version": 1,
     "solution": false
    }
   },
   "outputs": [
    {
     "name": "stdout",
     "output_type": "stream",
     "text": [
      "`filename`: 'message_in_a_bottle.txt.zip'\n",
      "\n",
      "=== BEGIN MESSAGE ===\n",
      "Good luck, kiddos!\n",
      "=== END MESSAGE ===\n"
     ]
    }
   ],
   "source": [
    "# Test cell: `filename_test`\n",
    "\n",
    "print(\"`filename`: '{}'\".format(filename))\n",
    "from zipfile import ZipFile\n",
    "with ZipFile(filename, 'r') as input_zip:\n",
    "    with input_zip.open(filename[:-4], 'r') as input_file:\n",
    "        message = input_file.readline().decode('utf-8')\n",
    "print(\"\\n=== BEGIN MESSAGE ===\\n{}=== END MESSAGE ===\".format(message))"
   ]
  },
  {
   "cell_type": "markdown",
   "metadata": {
    "nbgrader": {
     "grade": false,
     "grade_id": "cell-7b5dfffc0f015b87",
     "locked": true,
     "schema_version": 1,
     "solution": false
    }
   },
   "source": [
    "This is the end of Part 1. If everything seems to have worked, try submitting it!"
   ]
  },
  {
   "cell_type": "code",
   "execution_count": null,
   "metadata": {
    "collapsed": true
   },
   "outputs": [],
   "source": []
  }
 ],
 "metadata": {
  "celltoolbar": "Create Assignment",
  "kernelspec": {
   "display_name": "Python 3",
   "language": "python",
   "name": "python3"
  },
  "language_info": {
   "codemirror_mode": {
    "name": "ipython",
    "version": 3
   },
   "file_extension": ".py",
   "mimetype": "text/x-python",
   "name": "python",
   "nbconvert_exporter": "python",
   "pygments_lexer": "ipython3",
   "version": "3.5.2"
  }
 },
 "nbformat": 4,
 "nbformat_minor": 2
}
